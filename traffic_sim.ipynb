{
 "cells": [
  {
   "cell_type": "markdown",
   "metadata": {},
   "source": [
    "## Traffic Simulation\n",
    "#### Eynat Grof"
   ]
  },
  {
   "cell_type": "code",
   "execution_count": 5,
   "metadata": {
    "ExecuteTime": {
     "end_time": "2019-10-30T16:27:57.413202Z",
     "start_time": "2019-10-30T16:27:57.396753Z"
    }
   },
   "outputs": [],
   "source": [
    "import scipy\n",
    "import random\n",
    "import numpy as np\n",
    "import matplotlib\n",
    "from matplotlib import pyplot as plt\n",
    "import pylab\n",
    "%matplotlib inline"
   ]
  },
  {
   "cell_type": "code",
   "execution_count": 6,
   "metadata": {
    "ExecuteTime": {
     "end_time": "2019-10-30T16:27:58.496672Z",
     "start_time": "2019-10-30T16:27:58.326499Z"
    }
   },
   "outputs": [],
   "source": [
    "\n",
    "class TrafficSimulation:\n",
    "\n",
    "    def __init__ (self, length = 100, density = 0.3, maxVelocity = 5,\n",
    "        probSlowDown = 0.2, num_lanes = 1, probChangeLane = 0.7):\n",
    "        '''\n",
    "        Initializing model parameters with default values. \n",
    "        \n",
    "        Inputs:\n",
    "            length (int): length of the road, number of cells.\n",
    "\n",
    "            density (float): between 0 to 1, indicating the amount of cars on \n",
    "                the road.\n",
    "\n",
    "            maxVelocity (int): maximum velocity of cars. \n",
    "\n",
    "            ProbSlowDown (float): between 0 to 1, probability of a car slowing\n",
    "                down randomly.\n",
    "                \n",
    "            num_lanes (int):  number of lanes in the road.\n",
    "            \n",
    "            probChangeLane (float): probability a car will change lanes, after all other conditions are checked. \n",
    "        '''\n",
    "        \n",
    "        self.length = length\n",
    "        self.density = density\n",
    "        self.maxVelocity = maxVelocity\n",
    "        self.probSlowDown = probSlowDown\n",
    "        self.num_lanes = num_lanes\n",
    "        self.probChangeLane = probChangeLane\n",
    "        \n",
    "     \n",
    "    def initialize(self):\n",
    "        '''\n",
    "        Set up a random initial state where the fraction of cars on the road equals the\n",
    "        density parameter.\n",
    "        '''\n",
    "        \n",
    "        # create SciPy arrays to represent the road: current state\n",
    "        self.current_state = -scipy.ones((self.num_lanes, self.length), dtype = int)\n",
    "        \n",
    "        # pick random indices on the road and put cars there with cars in varying speeds\n",
    "        random_indices = scipy.random.choice(self.length,                            \n",
    "            size = int(round((self.length * self.density))), \n",
    "            replace = False)\n",
    "        for lane in xrange(0, self.num_lanes):\n",
    "            self.current_state[lane, random_indices] = scipy.random.randint(0, self.maxVelocity+1, size = len(random_indices))\n",
    "            \n",
    "            \n",
    "        self.step = 0\n",
    "        self.flow = 0.  \n",
    "        \n",
    "        \n",
    "        \n",
    "    def change_lane(self):\n",
    "        '''\n",
    "        Change lane if traffic allows for it.\n",
    "        Works for two lanes, not more.\n",
    "        '''\n",
    "        for lane in range(0, self.num_lanes):\n",
    "            for i in range(0, self.length):\n",
    "                if self.current_state[lane, i] != -1:\n",
    "                    \n",
    "                    distance = 1\n",
    "                    ahead_lane = 1\n",
    "                    behind_lane = 1\n",
    "                    \n",
    "                    if lane == 0:\n",
    "                        var = 1\n",
    "                    elif lane == 1:\n",
    "                        var = -1\n",
    "                        \n",
    "                    # how much distance in ahead in current lane?\n",
    "                    while self.current_state[lane, (i + distance) % self.length] == -1:\n",
    "                        distance += 1\n",
    "                    \n",
    "                    # how much distance ahead in the other lane?\n",
    "                    while self.current_state[lane + var, (i + ahead_lane)%self.length] == -1:\n",
    "                        ahead_lane += 1\n",
    "                        if ahead_lane > self.length:\n",
    "                            break\n",
    "                    \n",
    "                    # how much distance behind in the other lane?\n",
    "                    while self.current_state[lane + var, (i - behind_lane) % self.length] == -1:\n",
    "                        behind_lane +=1\n",
    "                        if behind_lane > self.length:\n",
    "                            break\n",
    "                                                \n",
    "                    # check all conditions for switching lanes:\n",
    "                    if distance < ahead_lane:  # if enough distance ahead\n",
    "                        if self.current_state[lane + var, i] == -1:  # if i position in the other lane is free\n",
    "                            if ahead_lane > self.current_state[lane+var, i] + 1:  # space ahead other lane\n",
    "                                if behind_lane > self.maxVelocity:  # is there anyone behind in the other lane\n",
    "                                    if np.random.random() < self.probChangeLane:  # prob of changing lane\n",
    "                                        self.current_state[lane + var, i] = self.current_state[lane, i]\n",
    "                                        self.current_state[lane+ var, i] = -1\n",
    "\n",
    "    def calculate(self):\n",
    "        '''\n",
    "        Calculates CA velocities and update positions at t + 1, according to\n",
    "        the follwoing rules:\n",
    "        '''\n",
    "        \n",
    "        ### UPDATE SPEEDS: only change the velocity value of each car \n",
    "        \n",
    "        if self.num_lanes >1:\n",
    "            self.change_lane()\n",
    "\n",
    "        for lane in xrange(0, self.num_lanes):\n",
    "            for i in xrange(0, self.length):\n",
    "                if self.current_state[lane, i] != -1:\n",
    "                    distance = 1  # empty cells ahead\n",
    "                    while self.current_state[lane, (i + distance) % self.length] == -1:\n",
    "                        distance +=1\n",
    "\n",
    "                    # accelerate: if car velocity < maximum velocity\n",
    "                    # and distance > velocity + 1, advance speed\n",
    "                    if distance > self.current_state[lane, i] + 1 and self.current_state[lane, i] < self.maxVelocity:\n",
    "                        self.current_state[lane, i] = self.current_state[lane, i]+1\n",
    "\n",
    "                    # slow: if distance <= velocity, slow down \n",
    "                    if distance <= self.current_state[lane, i]:\n",
    "                        self.current_state[lane, i] = distance-1\n",
    "\n",
    "                    # random slow: reduce speed with probability probSlowDown\n",
    "                    if self.current_state[lane, i] > 0 and np.random.random() < self.probSlowDown:\n",
    "                        self.current_state[lane, i] = self.current_state[lane, i]-1\n",
    "       \n",
    "    \n",
    "        ### UPDATE POSITIONS: move each car based on updated velocity value\n",
    "        \n",
    "        next_state = -scipy.ones((self.num_lanes, self.length), dtype = int)\n",
    "        for lane in xrange(0, self.num_lanes):\n",
    "            for i in xrange(0, self.length):\n",
    "                spaces = int(self.current_state[lane, i])\n",
    "                if self.current_state[lane, i] != -1:\n",
    "                    next_state[lane, (i + spaces) % self.length] = self.current_state[lane, i]\n",
    "            self.current_state[lane] = next_state[lane]\n",
    "        \n",
    "        ### updating flow and time step values\n",
    "        self.step += 1\n",
    "        for lane in xrange(0, self.num_lanes):\n",
    "            for i in xrange(0, self.maxVelocity):\n",
    "                if self.current_state[lane, i] > i:\n",
    "                    self.flow += 1\n",
    "\n",
    "    def draw(self):\n",
    "        for lane in range(self.num_lanes):\n",
    "            print(''.join('.' if x == -1 else str(x) for x in self.current_state[lane]))\n",
    "            \n",
    "        if self.num_lanes > 1:\n",
    "            print \"\\n\"\n",
    "            \n",
    "\n"
   ]
  },
  {
   "cell_type": "markdown",
   "metadata": {},
   "source": [
    "## Running and visualizing the model"
   ]
  },
  {
   "cell_type": "code",
   "execution_count": 3,
   "metadata": {
    "ExecuteTime": {
     "end_time": "2019-10-30T15:44:45.627397Z",
     "start_time": "2019-10-30T15:44:45.603602Z"
    }
   },
   "outputs": [
    {
     "name": "stdout",
     "output_type": "stream",
     "text": [
      "01.32.5.2.5.21...10..4..5.04.0...552.4...12.1.20..\n",
      "0.10.1.1.1.10..2.00....2.10.1.1..00.1...30.1.100..\n",
      "0.00..1.1.10.1..10.1....10.1.1..20.1..2.0.1.100.1.\n",
      ".10.1..1.10.1..200...2..0.1.1..20.1..2.1.1.100.1.1\n",
      "100...2.100...2000....1..1.1..20.1.1.0.0..100.1.1.\n",
      "00.1...100.1..000.1.....2.1..20.1.1.1.1.1.000..1.1\n",
      "0.1..2.00.1.1.000...2...0...20.1.10..1.10.00.1.0.0\n",
      ".1.1..100..1.1000......3.1..0.1.10.1..100.00.0..10\n",
      "1.1..200.1..1000.1.....0...2.1.10.1..200.10.1.1.0.\n",
      "0..1.00.1..2000.1..2....1..0..10.1..200.10.1.1.1.1\n",
      ".1..10.1..2000.1..2..2....2.1.0.1..200.10.1.1.1.10\n",
      "1..20.1.1.000.1..2..2...3.0..10...200.10.10..1.10.\n",
      "..20.10..1000...2..2..2..1.1.0.1..00.10.10.1..100.\n",
      "..0.100..000.1....2.1...20..1.1..20.10.10.1..200.1\n",
      "1..100.1.00.1..2...1..2.0.1..1.1.0.10.10.1..200.1.\n",
      "..200.1.10.1..2...3..2.1.1..20..1.10.100..1.00.10.\n",
      "..00.1.10.1..2...3..2.1.1..20.1..10.100.1..10.10.1\n",
      ".20.1.10.1..2...3..2.1.1..200..1.00.000..1.0.10.1.\n",
      "20.10.0.1..2...3..2.1.1.1.000...100.00.1..1.10.1..\n",
      "0.10.1.1..2..2...20..1.1.100.1..000.0.1.1..10.1..2\n",
      "0.00..1..2..2...30.1.0..100.1.1.000..1.1..20.1..20\n",
      "0.0.1...2.1...2.0.1.1.1.000..1.100.1..1..20.1..200\n",
      ".1.1..2..1..2.0.0..1.1.100.1..100.1..2..20.1..2000\n",
      "1.1..2..2..2.1.10...10.00.1..200.1..2.1.0.1..2000.\n",
      ".1..2.1..1..1.10.1..0.10.1..200.1.1..1.10...2000.1\n",
      "1..2.1..2..2.10.1..2.10.1.1.00.1.1..2.10.1..0000..\n",
      ".1..1..2..2.10.1.1..10.10..10.1.1..2.100...2000.1.\n",
      "...2.1..1..10.10...20.10.1.0.10...2.100.1..000.1.1\n",
      "1...1..2..20.10.1..0.10.1.1.10.1...1000...200.1.1.\n",
      ".1....2..200.0.1..2.10.1.1.100...2.000.1..00.1.1.1\n",
      "1..2...1.00.1.1..2.10.1.10.00.1..0.00.1..200..1.1.\n",
      "Car Density: 0.5\n",
      "Traffic flow rate: 0.333333333333\n"
     ]
    }
   ],
   "source": [
    "sim = TrafficSimulation(density = 0.5 , length = 50, num_lanes = 1)\n",
    "\n",
    "sim.initialize()\n",
    "sim.draw()\n",
    "for i in range(30):\n",
    "    sim.calculate()\n",
    "    sim.draw()\n",
    "print 'Car Density:', sim.density\n",
    "print 'Traffic flow rate:', sim.flow/sim.step"
   ]
  },
  {
   "cell_type": "markdown",
   "metadata": {},
   "source": [
    "## Plots"
   ]
  },
  {
   "cell_type": "code",
   "execution_count": 4,
   "metadata": {
    "ExecuteTime": {
     "end_time": "2019-10-30T15:49:48.207277Z",
     "start_time": "2019-10-30T15:44:48.628418Z"
    },
    "scrolled": false
   },
   "outputs": [
    {
     "data": {
      "image/png": "[encoded data removed]",
      "text/plain": [
       "<Figure size 432x288 with 1 Axes>"
      ]
     },
     "metadata": {
      "needs_background": "light"
     },
     "output_type": "display_data"
    },
    {
     "data": {
      "image/png": "[encoded data removed]",
      "text/plain": [
       "<Figure size 432x288 with 1 Axes>"
      ]
     },
     "metadata": {
      "needs_background": "light"
     },
     "output_type": "display_data"
    }
   ],
   "source": [
    "def visualizations(densities, number_lanes):\n",
    "    '''\n",
    "    Visualize the output of the model as the relationship between density and \n",
    "    average flow rate. \n",
    "    '''\n",
    "    mean_flows = []\n",
    "    std_flows = []\n",
    "\n",
    "    for dens in densities:\n",
    "        flows = []\n",
    "        for j in range(100):  \n",
    "            sim = TrafficSimulation(density=dens, num_lanes = number_lanes)\n",
    "            sim.initialize()\n",
    "            for i in range(50):  \n",
    "                    sim.calculate()\n",
    "            avg_flow = sim.flow / float(sim.step)\n",
    "            flows.append(avg_flow)\n",
    "        mean_flows.append(np.mean(flows) / float(number_lanes))\n",
    "        std_flows.append(np.std(flows))\n",
    "    \n",
    "    plt.errorbar(scipy.linspace(0,1,50), mean_flows, xerr=0, yerr= 1.96*np.array(std_flows))\n",
    "    plt.title('Traffic Flow over Density ({} Lane)'.format(number_lanes))\n",
    "    plt.ylabel('Traffic Flow')\n",
    "    plt.xlabel('Car Density')\n",
    "    plt.show()\n",
    "    \n",
    "\n",
    "visualizations(np.linspace(0, 1, 50), 1)\n",
    "visualizations(np.linspace(0, 1, 50), 2)"
   ]
  }
 ],
 "metadata": {
  "kernelspec": {
   "display_name": "Python 2",
   "language": "python",
   "name": "python2"
  },
  "language_info": {
   "codemirror_mode": {
    "name": "ipython",
    "version": 2
   },
   "file_extension": ".py",
   "mimetype": "text/x-python",
   "name": "python",
   "nbconvert_exporter": "python",
   "pygments_lexer": "ipython2",
   "version": "2.7.16"
  },
  "varInspector": {
   "cols": {
    "lenName": 16,
    "lenType": 16,
    "lenVar": 40
   },
   "kernels_config": {
    "python": {
     "delete_cmd_postfix": "",
     "delete_cmd_prefix": "del ",
     "library": "var_list.py",
     "varRefreshCmd": "print(var_dic_list())"
    },
    "r": {
     "delete_cmd_postfix": ") ",
     "delete_cmd_prefix": "rm(",
     "library": "var_list.r",
     "varRefreshCmd": "cat(var_dic_list()) "
    }
   },
   "types_to_exclude": [
    "module",
    "function",
    "builtin_function_or_method",
    "instance",
    "_Feature"
   ],
   "window_display": false
  }
 },
 "nbformat": 4,
 "nbformat_minor": 2
}
